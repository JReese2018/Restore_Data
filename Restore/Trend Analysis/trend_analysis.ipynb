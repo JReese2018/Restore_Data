{
 "cells": [
  {
   "cell_type": "code",
   "execution_count": 58,
   "metadata": {},
   "outputs": [],
   "source": [
    "## Load Libs\n",
    "import pandas as pd\n",
    "import matplotlib.pyplot as plt"
   ]
  },
  {
   "cell_type": "code",
   "execution_count": 48,
   "metadata": {},
   "outputs": [
    {
     "data": {
      "text/html": [
       "<div>\n",
       "<style scoped>\n",
       "    .dataframe tbody tr th:only-of-type {\n",
       "        vertical-align: middle;\n",
       "    }\n",
       "\n",
       "    .dataframe tbody tr th {\n",
       "        vertical-align: top;\n",
       "    }\n",
       "\n",
       "    .dataframe thead th {\n",
       "        text-align: right;\n",
       "    }\n",
       "</style>\n",
       "<table border=\"1\" class=\"dataframe\">\n",
       "  <thead>\n",
       "    <tr style=\"text-align: right;\">\n",
       "      <th></th>\n",
       "      <th>Month</th>\n",
       "      <th>Total Revenue</th>\n",
       "      <th>Membership</th>\n",
       "      <th>Core</th>\n",
       "      <th>Medical</th>\n",
       "      <th>Skin Health</th>\n",
       "    </tr>\n",
       "  </thead>\n",
       "  <tbody>\n",
       "    <tr>\n",
       "      <th>0</th>\n",
       "      <td>January 2023</td>\n",
       "      <td>146547.52</td>\n",
       "      <td>59503.10</td>\n",
       "      <td>7022.60</td>\n",
       "      <td>60590.82</td>\n",
       "      <td>19431.00</td>\n",
       "    </tr>\n",
       "    <tr>\n",
       "      <th>1</th>\n",
       "      <td>February 2023</td>\n",
       "      <td>123527.00</td>\n",
       "      <td>61921.10</td>\n",
       "      <td>3965.00</td>\n",
       "      <td>46062.70</td>\n",
       "      <td>11452.50</td>\n",
       "    </tr>\n",
       "    <tr>\n",
       "      <th>2</th>\n",
       "      <td>March 2023</td>\n",
       "      <td>144521.71</td>\n",
       "      <td>62918.45</td>\n",
       "      <td>5542.00</td>\n",
       "      <td>55003.26</td>\n",
       "      <td>21058.00</td>\n",
       "    </tr>\n",
       "    <tr>\n",
       "      <th>3</th>\n",
       "      <td>April 2023</td>\n",
       "      <td>130821.25</td>\n",
       "      <td>61934.10</td>\n",
       "      <td>6404.70</td>\n",
       "      <td>44323.70</td>\n",
       "      <td>13784.75</td>\n",
       "    </tr>\n",
       "    <tr>\n",
       "      <th>4</th>\n",
       "      <td>May 2023</td>\n",
       "      <td>140632.94</td>\n",
       "      <td>60906.40</td>\n",
       "      <td>9352.00</td>\n",
       "      <td>49512.54</td>\n",
       "      <td>20562.00</td>\n",
       "    </tr>\n",
       "    <tr>\n",
       "      <th>5</th>\n",
       "      <td>June 2023</td>\n",
       "      <td>105919.30</td>\n",
       "      <td>51621.00</td>\n",
       "      <td>4713.30</td>\n",
       "      <td>35496.60</td>\n",
       "      <td>14313.90</td>\n",
       "    </tr>\n",
       "    <tr>\n",
       "      <th>6</th>\n",
       "      <td>July 2023</td>\n",
       "      <td>89937.24</td>\n",
       "      <td>34281.00</td>\n",
       "      <td>4448.84</td>\n",
       "      <td>34281.00</td>\n",
       "      <td>4906.00</td>\n",
       "    </tr>\n",
       "    <tr>\n",
       "      <th>7</th>\n",
       "      <td>August 2023</td>\n",
       "      <td>110283.00</td>\n",
       "      <td>49190.10</td>\n",
       "      <td>4546.00</td>\n",
       "      <td>36155.48</td>\n",
       "      <td>20689.00</td>\n",
       "    </tr>\n",
       "    <tr>\n",
       "      <th>8</th>\n",
       "      <td>September 2023</td>\n",
       "      <td>87985.00</td>\n",
       "      <td>50760.00</td>\n",
       "      <td>4763.46</td>\n",
       "      <td>27626.50</td>\n",
       "      <td>6513.00</td>\n",
       "    </tr>\n",
       "    <tr>\n",
       "      <th>9</th>\n",
       "      <td>October 2023</td>\n",
       "      <td>125377.00</td>\n",
       "      <td>52433.76</td>\n",
       "      <td>3850.30</td>\n",
       "      <td>54316.30</td>\n",
       "      <td>18398.45</td>\n",
       "    </tr>\n",
       "    <tr>\n",
       "      <th>10</th>\n",
       "      <td>November 2023</td>\n",
       "      <td>93854.86</td>\n",
       "      <td>50025.60</td>\n",
       "      <td>4895.00</td>\n",
       "      <td>29536.80</td>\n",
       "      <td>10978.20</td>\n",
       "    </tr>\n",
       "    <tr>\n",
       "      <th>11</th>\n",
       "      <td>December 2023</td>\n",
       "      <td>105112.00</td>\n",
       "      <td>49106.40</td>\n",
       "      <td>7325.00</td>\n",
       "      <td>43352.60</td>\n",
       "      <td>6112.60</td>\n",
       "    </tr>\n",
       "    <tr>\n",
       "      <th>12</th>\n",
       "      <td>January 2024</td>\n",
       "      <td>106385.90</td>\n",
       "      <td>53198.05</td>\n",
       "      <td>3815.00</td>\n",
       "      <td>43893.40</td>\n",
       "      <td>7737.45</td>\n",
       "    </tr>\n",
       "    <tr>\n",
       "      <th>13</th>\n",
       "      <td>February 2024</td>\n",
       "      <td>92413.07</td>\n",
       "      <td>54306.48</td>\n",
       "      <td>3862.00</td>\n",
       "      <td>28092.50</td>\n",
       "      <td>9880.60</td>\n",
       "    </tr>\n",
       "    <tr>\n",
       "      <th>14</th>\n",
       "      <td>March 2024</td>\n",
       "      <td>107832.00</td>\n",
       "      <td>50415.98</td>\n",
       "      <td>3922.80</td>\n",
       "      <td>35372.72</td>\n",
       "      <td>19376.95</td>\n",
       "    </tr>\n",
       "    <tr>\n",
       "      <th>15</th>\n",
       "      <td>April 2024</td>\n",
       "      <td>99640.13</td>\n",
       "      <td>51997.58</td>\n",
       "      <td>3792.55</td>\n",
       "      <td>36535.50</td>\n",
       "      <td>8013.50</td>\n",
       "    </tr>\n",
       "  </tbody>\n",
       "</table>\n",
       "</div>"
      ],
      "text/plain": [
       "             Month  Total Revenue  Membership     Core   Medical  Skin Health\n",
       "0     January 2023      146547.52    59503.10  7022.60  60590.82     19431.00\n",
       "1    February 2023      123527.00    61921.10  3965.00  46062.70     11452.50\n",
       "2       March 2023      144521.71    62918.45  5542.00  55003.26     21058.00\n",
       "3       April 2023      130821.25    61934.10  6404.70  44323.70     13784.75\n",
       "4         May 2023      140632.94    60906.40  9352.00  49512.54     20562.00\n",
       "5        June 2023      105919.30    51621.00  4713.30  35496.60     14313.90\n",
       "6        July 2023       89937.24    34281.00  4448.84  34281.00      4906.00\n",
       "7      August 2023      110283.00    49190.10  4546.00  36155.48     20689.00\n",
       "8   September 2023       87985.00    50760.00  4763.46  27626.50      6513.00\n",
       "9     October 2023      125377.00    52433.76  3850.30  54316.30     18398.45\n",
       "10   November 2023       93854.86    50025.60  4895.00  29536.80     10978.20\n",
       "11   December 2023      105112.00    49106.40  7325.00  43352.60      6112.60\n",
       "12    January 2024      106385.90    53198.05  3815.00  43893.40      7737.45\n",
       "13   February 2024       92413.07    54306.48  3862.00  28092.50      9880.60\n",
       "14      March 2024      107832.00    50415.98  3922.80  35372.72     19376.95\n",
       "15      April 2024       99640.13    51997.58  3792.55  36535.50      8013.50"
      ]
     },
     "execution_count": 48,
     "metadata": {},
     "output_type": "execute_result"
    }
   ],
   "source": [
    "## Read CSV\n",
    "df = pd.read_csv('trend_analysis_pinecrest.csv')\n",
    "df"
   ]
  },
  {
   "cell_type": "code",
   "execution_count": 49,
   "metadata": {},
   "outputs": [
    {
     "data": {
      "text/plain": [
       "0          NaN\n",
       "1    -0.157086\n",
       "2     0.169960\n",
       "3    -0.094799\n",
       "4     0.075001\n",
       "5    -0.246839\n",
       "6    -0.150889\n",
       "7     0.226222\n",
       "8    -0.202189\n",
       "9     0.424982\n",
       "10   -0.251419\n",
       "11    0.119942\n",
       "12    0.012119\n",
       "13   -0.131341\n",
       "14    0.166848\n",
       "15   -0.075969\n",
       "Name: Total Revenue, dtype: float64"
      ]
     },
     "execution_count": 49,
     "metadata": {},
     "output_type": "execute_result"
    }
   ],
   "source": [
    "df['Total Revenue'].pct_change()"
   ]
  },
  {
   "cell_type": "code",
   "execution_count": 53,
   "metadata": {},
   "outputs": [
    {
     "data": {
      "text/plain": [
       "10         NaN\n",
       "11    0.119942\n",
       "12    0.012119\n",
       "13   -0.131341\n",
       "14    0.166848\n",
       "15   -0.075969\n",
       "Name: Total Revenue, dtype: float64"
      ]
     },
     "execution_count": 53,
     "metadata": {},
     "output_type": "execute_result"
    }
   ],
   "source": [
    "## Getting the pct_change of the last 6 values (Last 6 months)\n",
    "pct = df['Total Revenue'].iloc[-6:].pct_change()\n",
    "pct"
   ]
  },
  {
   "cell_type": "code",
   "execution_count": 54,
   "metadata": {},
   "outputs": [
    {
     "data": {
      "text/plain": [
       "109837.18826403959"
      ]
     },
     "execution_count": 54,
     "metadata": {},
     "output_type": "execute_result"
    }
   ],
   "source": [
    "(pct.sort_values(ascending=False).head(3).mean() + 1) * "
   ]
  },
  {
   "cell_type": "code",
   "execution_count": 59,
   "metadata": {},
   "outputs": [
    {
     "ename": "TypeError",
     "evalue": "tuple indices must be integers or slices, not str",
     "output_type": "error",
     "traceback": [
      "\u001b[1;31m---------------------------------------------------------------------------\u001b[0m",
      "\u001b[1;31mTypeError\u001b[0m                                 Traceback (most recent call last)",
      "Cell \u001b[1;32mIn[59], line 3\u001b[0m\n\u001b[0;32m      1\u001b[0m months \u001b[38;5;241m=\u001b[39m []\n\u001b[0;32m      2\u001b[0m \u001b[38;5;28;01mfor\u001b[39;00m x \u001b[38;5;129;01min\u001b[39;00m df\u001b[38;5;241m.\u001b[39miterrows():\n\u001b[1;32m----> 3\u001b[0m     add \u001b[38;5;241m=\u001b[39m \u001b[43mx\u001b[49m\u001b[43m[\u001b[49m\u001b[38;5;124;43m'\u001b[39;49m\u001b[38;5;124;43mMonths\u001b[39;49m\u001b[38;5;124;43m'\u001b[39;49m\u001b[43m]\u001b[49m\n\u001b[0;32m      4\u001b[0m     months\u001b[38;5;241m.\u001b[39mappend(add)\n\u001b[0;32m      5\u001b[0m total_revenue \u001b[38;5;241m=\u001b[39m df[\u001b[38;5;124m'\u001b[39m\u001b[38;5;124mTotal Revenue\u001b[39m\u001b[38;5;124m'\u001b[39m]\n",
      "\u001b[1;31mTypeError\u001b[0m: tuple indices must be integers or slices, not str"
     ]
    }
   ],
   "source": [
    "months = []\n",
    "for x in df.iterrows():\n",
    "    add = x['Months']\n",
    "    months.append(add)\n",
    "total_revenue = df['Total Revenue']\n",
    "\n",
    "plt.figure(figsize=(12,6))\n",
    "\n",
    "plt.xlabel('Week', fontdict={'fontname' : 'Century Gothic', 'fontsize': 25})\n",
    "plt.ylabel('High Intensity Distance (m)', fontdict={'fontname' : 'Century Gothic', 'fontsize': 25})\n",
    "plt.title('Average Team High Intensity Distance per Week', fontdict={'fontname' : 'Century Gothic', 'fontsize': 30})\n",
    "\n",
    "plt.bar(months, total_revenue, label='Team', color='#F47321', edgecolor='black')\n",
    "\n",
    "plt.xticks(rotation=45)\n",
    "\n",
    "plt.show()"
   ]
  }
 ],
 "metadata": {
  "kernelspec": {
   "display_name": "Python 3",
   "language": "python",
   "name": "python3"
  },
  "language_info": {
   "codemirror_mode": {
    "name": "ipython",
    "version": 3
   },
   "file_extension": ".py",
   "mimetype": "text/x-python",
   "name": "python",
   "nbconvert_exporter": "python",
   "pygments_lexer": "ipython3",
   "version": "3.12.1"
  }
 },
 "nbformat": 4,
 "nbformat_minor": 2
}
